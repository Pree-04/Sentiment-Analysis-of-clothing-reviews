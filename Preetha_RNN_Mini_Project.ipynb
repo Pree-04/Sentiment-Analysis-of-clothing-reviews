{
  "cells": [
    {
      "cell_type": "code",
      "execution_count": null,
      "metadata": {
        "id": "AfswW42C8Sos"
      },
      "outputs": [],
      "source": [
        "import pandas as pd\n",
        "from sklearn.model_selection import train_test_split\n",
        "from sklearn.preprocessing import LabelEncoder\n",
        "from keras.preprocessing.text import Tokenizer\n",
        "from keras.preprocessing.sequence import pad_sequences\n",
        "from keras.models import Sequential\n",
        "from keras.layers import Embedding, LSTM, Dense"
      ]
    },
    {
      "cell_type": "code",
      "execution_count": null,
      "metadata": {
        "id": "iRXgU_Uw8cY8"
      },
      "outputs": [],
      "source": [
        "#Loading the dataset\n",
        "data = pd.read_csv(\"/content/Womens Clothing E-Commerce Reviews.csv\")"
      ]
    },
    {
      "cell_type": "code",
      "execution_count": null,
      "metadata": {
        "id": "RJyPF5N68cVd"
      },
      "outputs": [],
      "source": [
        "#Dropping rows with missing values in the Review Text column\n",
        "data.dropna(subset=['Review Text'], inplace=True)\n"
      ]
    },
    {
      "cell_type": "code",
      "execution_count": null,
      "metadata": {
        "id": "YRd1GvXQ8cSj"
      },
      "outputs": [],
      "source": [
        "#Mapping ratings to sentiments (e.g., ratings 4 and 5 as positive, rating 3 as neutral, ratings 1 and 2 as negative)\n",
        "data['Sentiment'] = data['Rating'].apply(lambda x: 'positive' if x > 3 else ('neutral' if x == 3 else 'negative'))"
      ]
    },
    {
      "cell_type": "code",
      "execution_count": null,
      "metadata": {
        "id": "AXnwcdXM8zTR"
      },
      "outputs": [],
      "source": [
        "#Tokenization of the text\n",
        "tokenizer = Tokenizer()\n",
        "tokenizer.fit_on_texts(data['Review Text'])\n",
        "X = tokenizer.texts_to_sequences(data['Review Text'])\n",
        "X = pad_sequences(X, maxlen=100)  # Limit reviews to 100 words"
      ]
    },
    {
      "cell_type": "code",
      "execution_count": null,
      "metadata": {
        "id": "P7CNe20q8cPw"
      },
      "outputs": [],
      "source": [
        "#Encoding the sentiment labels\n",
        "label_encoder = LabelEncoder()\n",
        "y = label_encoder.fit_transform(data['Sentiment'])"
      ]
    },
    {
      "cell_type": "code",
      "execution_count": null,
      "metadata": {
        "id": "AwL04tCU8cMq"
      },
      "outputs": [],
      "source": [
        "#Splitting the data into training and testing sets\n",
        "X_train, X_test, y_train, y_test = train_test_split(X, y, test_size=0.2, random_state=42)"
      ]
    },
    {
      "cell_type": "code",
      "execution_count": null,
      "metadata": {
        "colab": {
          "base_uri": "https://localhost:8080/"
        },
        "id": "VrTnlKRY8cHH",
        "outputId": "f3c6449e-56b9-422f-fdc2-863a4f83d14f"
      },
      "outputs": [
        {
          "output_type": "stream",
          "name": "stderr",
          "text": [
            "WARNING:tensorflow:Layer lstm will not use cuDNN kernels since it doesn't meet the criteria. It will use a generic GPU kernel as fallback when running on GPU.\n"
          ]
        }
      ],
      "source": [
        "#RNN model\n",
        "model = Sequential()\n",
        "model.add(Embedding(input_dim=len(tokenizer.word_index) + 1, output_dim=100, input_length=100))\n",
        "model.add(LSTM(units=64, dropout=0.2, recurrent_dropout=0.2))\n",
        "model.add(Dense(units=3, activation='softmax'))"
      ]
    },
    {
      "cell_type": "code",
      "execution_count": null,
      "metadata": {
        "id": "XfoMljO09etk"
      },
      "outputs": [],
      "source": [
        "#Compiling the model\n",
        "model.compile(loss='sparse_categorical_crossentropy', optimizer='adam', metrics=['accuracy'])\n"
      ]
    },
    {
      "cell_type": "code",
      "execution_count": null,
      "metadata": {
        "colab": {
          "base_uri": "https://localhost:8080/"
        },
        "id": "Z9x396hG9hAw",
        "outputId": "21d0d4c1-a6bb-475c-9f56-687f712e50e3"
      },
      "outputs": [
        {
          "output_type": "stream",
          "name": "stdout",
          "text": [
            "Epoch 1/5\n",
            "255/255 [==============================] - 113s 424ms/step - loss: 0.5367 - accuracy: 0.7951 - val_loss: 0.4859 - val_accuracy: 0.7930\n",
            "Epoch 2/5\n",
            "255/255 [==============================] - 93s 364ms/step - loss: 0.3832 - accuracy: 0.8334 - val_loss: 0.5112 - val_accuracy: 0.7964\n",
            "Epoch 3/5\n",
            "255/255 [==============================] - 89s 351ms/step - loss: 0.3317 - accuracy: 0.8598 - val_loss: 0.5058 - val_accuracy: 0.7820\n",
            "Epoch 4/5\n",
            "255/255 [==============================] - 87s 340ms/step - loss: 0.2780 - accuracy: 0.8863 - val_loss: 0.5411 - val_accuracy: 0.7897\n",
            "Epoch 5/5\n",
            "255/255 [==============================] - 87s 340ms/step - loss: 0.2300 - accuracy: 0.9101 - val_loss: 0.6075 - val_accuracy: 0.7936\n"
          ]
        },
        {
          "output_type": "execute_result",
          "data": {
            "text/plain": [
              "<keras.src.callbacks.History at 0x7b9097c23670>"
            ]
          },
          "metadata": {},
          "execution_count": 10
        }
      ],
      "source": [
        "#Training the model\n",
        "model.fit(X_train, y_train, epochs=5, batch_size=64, validation_split=0.1)"
      ]
    },
    {
      "cell_type": "code",
      "execution_count": null,
      "metadata": {
        "colab": {
          "base_uri": "https://localhost:8080/"
        },
        "id": "rT-RxKQz9kTW",
        "outputId": "b61e66eb-3316-4989-ff8d-2854019a2e01"
      },
      "outputs": [
        {
          "output_type": "stream",
          "name": "stdout",
          "text": [
            "142/142 [==============================] - 5s 32ms/step - loss: 0.5626 - accuracy: 0.8053\n",
            "Test Loss: 0.5625892281532288\n",
            "Test Accuracy: 0.8052549958229065\n"
          ]
        }
      ],
      "source": [
        "#Evaluate the model\n",
        "loss, accuracy = model.evaluate(X_test, y_test)\n",
        "print(\"Test Loss:\", loss)\n",
        "print(\"Test Accuracy:\", accuracy)"
      ]
    },
    {
      "cell_type": "code",
      "execution_count": null,
      "metadata": {
        "id": "5gWexGEo9pK7"
      },
      "outputs": [],
      "source": [
        "#Perform sentiment analysis on new input\n",
        "def predict_sentiment(review_text):\n",
        "    #Tokenize and pad the input text\n",
        "    input_sequence = tokenizer.texts_to_sequences([review_text])\n",
        "    padded_sequence = pad_sequences(input_sequence, maxlen=100)\n",
        "    #Predict the sentiment\n",
        "    sentiment_probs = model.predict(padded_sequence)[0]\n",
        "    sentiment_label = label_encoder.classes_[sentiment_probs.argmax()]\n",
        "    return sentiment_label"
      ]
    },
    {
      "cell_type": "code",
      "execution_count": null,
      "metadata": {
        "colab": {
          "base_uri": "https://localhost:8080/"
        },
        "id": "gRuXN2ZB-Rwq",
        "outputId": "902b3149-2b50-454f-908c-68dfffe51298"
      },
      "outputs": [
        {
          "output_type": "stream",
          "name": "stdout",
          "text": [
            "1/1 [==============================] - 0s 40ms/step\n",
            "The review by user is: 'This dress exceeded my expectations! The fabric is luxurious and feels amazing against the skin.'\n",
            "The review is positive.\n"
          ]
        }
      ],
      "source": [
        "#sample prediction\n",
        "user_review = \"This dress exceeded my expectations! The fabric is luxurious and feels amazing against the skin.\"\n",
        "predicted_sentiment = predict_sentiment(user_review)\n",
        "print(f\"The review by user is: '{user_review}'\")\n",
        "print(f\"The review is {predicted_sentiment}.\")"
      ]
    },
    {
      "cell_type": "code",
      "execution_count": null,
      "metadata": {
        "id": "xfijCTBx_JAR"
      },
      "outputs": [],
      "source": []
    }
  ],
  "metadata": {
    "accelerator": "GPU",
    "colab": {
      "gpuType": "T4",
      "provenance": []
    },
    "kernelspec": {
      "display_name": "Python 3",
      "name": "python3"
    },
    "language_info": {
      "name": "python"
    }
  },
  "nbformat": 4,
  "nbformat_minor": 0
}